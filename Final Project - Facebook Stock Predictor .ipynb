{
 "cells": [
  {
   "cell_type": "markdown",
   "metadata": {},
   "source": [
    "# Description: This program uses linear regression to predict the price of Facebook stock 30 days into the future"
   ]
  },
  {
   "cell_type": "code",
   "execution_count": 3,
   "metadata": {},
   "outputs": [],
   "source": [
    "#This cell imports the packages that we need\n",
    "\n",
    "import pandas as pd\n",
    "import numpy as np\n",
    "from sklearn.svm import SVR\n",
    "import matplotlib.pyplot as plt"
   ]
  },
  {
   "cell_type": "code",
   "execution_count": 4,
   "metadata": {},
   "outputs": [
    {
     "data": {
      "text/html": [
       "<div>\n",
       "<style scoped>\n",
       "    .dataframe tbody tr th:only-of-type {\n",
       "        vertical-align: middle;\n",
       "    }\n",
       "\n",
       "    .dataframe tbody tr th {\n",
       "        vertical-align: top;\n",
       "    }\n",
       "\n",
       "    .dataframe thead th {\n",
       "        text-align: right;\n",
       "    }\n",
       "</style>\n",
       "<table border=\"1\" class=\"dataframe\">\n",
       "  <thead>\n",
       "    <tr style=\"text-align: right;\">\n",
       "      <th></th>\n",
       "      <th>Date</th>\n",
       "      <th>Open</th>\n",
       "      <th>High</th>\n",
       "      <th>Low</th>\n",
       "      <th>Close</th>\n",
       "      <th>Adj Close</th>\n",
       "      <th>Volume</th>\n",
       "    </tr>\n",
       "  </thead>\n",
       "  <tbody>\n",
       "    <tr>\n",
       "      <td>0</td>\n",
       "      <td>2019-11-04</td>\n",
       "      <td>194.550003</td>\n",
       "      <td>197.369995</td>\n",
       "      <td>193.809998</td>\n",
       "      <td>194.720001</td>\n",
       "      <td>194.720001</td>\n",
       "      <td>16371300</td>\n",
       "    </tr>\n",
       "    <tr>\n",
       "      <td>1</td>\n",
       "      <td>2019-11-05</td>\n",
       "      <td>195.369995</td>\n",
       "      <td>195.750000</td>\n",
       "      <td>193.600006</td>\n",
       "      <td>194.320007</td>\n",
       "      <td>194.320007</td>\n",
       "      <td>9942000</td>\n",
       "    </tr>\n",
       "    <tr>\n",
       "      <td>2</td>\n",
       "      <td>2019-11-06</td>\n",
       "      <td>194.029999</td>\n",
       "      <td>194.369995</td>\n",
       "      <td>191.350006</td>\n",
       "      <td>191.550003</td>\n",
       "      <td>191.550003</td>\n",
       "      <td>10973000</td>\n",
       "    </tr>\n",
       "    <tr>\n",
       "      <td>3</td>\n",
       "      <td>2019-11-07</td>\n",
       "      <td>191.910004</td>\n",
       "      <td>193.440002</td>\n",
       "      <td>189.470001</td>\n",
       "      <td>190.419998</td>\n",
       "      <td>190.419998</td>\n",
       "      <td>13473000</td>\n",
       "    </tr>\n",
       "    <tr>\n",
       "      <td>4</td>\n",
       "      <td>2019-11-08</td>\n",
       "      <td>190.000000</td>\n",
       "      <td>192.339996</td>\n",
       "      <td>189.699997</td>\n",
       "      <td>190.839996</td>\n",
       "      <td>190.839996</td>\n",
       "      <td>10760800</td>\n",
       "    </tr>\n",
       "    <tr>\n",
       "      <td>5</td>\n",
       "      <td>2019-11-11</td>\n",
       "      <td>189.929993</td>\n",
       "      <td>190.080002</td>\n",
       "      <td>188.539993</td>\n",
       "      <td>189.610001</td>\n",
       "      <td>189.610001</td>\n",
       "      <td>8631200</td>\n",
       "    </tr>\n",
       "    <tr>\n",
       "      <td>6</td>\n",
       "      <td>2019-11-12</td>\n",
       "      <td>190.000000</td>\n",
       "      <td>195.059998</td>\n",
       "      <td>189.740005</td>\n",
       "      <td>194.470001</td>\n",
       "      <td>194.470001</td>\n",
       "      <td>17615500</td>\n",
       "    </tr>\n",
       "  </tbody>\n",
       "</table>\n",
       "</div>"
      ],
      "text/plain": [
       "         Date        Open        High         Low       Close   Adj Close  \\\n",
       "0  2019-11-04  194.550003  197.369995  193.809998  194.720001  194.720001   \n",
       "1  2019-11-05  195.369995  195.750000  193.600006  194.320007  194.320007   \n",
       "2  2019-11-06  194.029999  194.369995  191.350006  191.550003  191.550003   \n",
       "3  2019-11-07  191.910004  193.440002  189.470001  190.419998  190.419998   \n",
       "4  2019-11-08  190.000000  192.339996  189.699997  190.839996  190.839996   \n",
       "5  2019-11-11  189.929993  190.080002  188.539993  189.610001  189.610001   \n",
       "6  2019-11-12  190.000000  195.059998  189.740005  194.470001  194.470001   \n",
       "\n",
       "     Volume  \n",
       "0  16371300  \n",
       "1   9942000  \n",
       "2  10973000  \n",
       "3  13473000  \n",
       "4  10760800  \n",
       "5   8631200  \n",
       "6  17615500  "
      ]
     },
     "execution_count": 4,
     "metadata": {},
     "output_type": "execute_result"
    }
   ],
   "source": [
    "#This cell loads the historical price data of the Facebook stock from Yahoo Finance\n",
    "\n",
    "df = pd.read_csv('/Users/FletcherHenson/Desktop/FB_30.csv')\n",
    "df.head(7)"
   ]
  },
  {
   "cell_type": "code",
   "execution_count": 5,
   "metadata": {},
   "outputs": [],
   "source": [
    "#This cell creates the X and Y data sets\n",
    "\n",
    "dates = []\n",
    "prices = []"
   ]
  },
  {
   "cell_type": "code",
   "execution_count": 6,
   "metadata": {},
   "outputs": [
    {
     "data": {
      "text/plain": [
       "(20, 7)"
      ]
     },
     "execution_count": 6,
     "metadata": {},
     "output_type": "execute_result"
    }
   ],
   "source": [
    "#This cells gets the number of rows and columns\n",
    "\n",
    "df.shape"
   ]
  },
  {
   "cell_type": "code",
   "execution_count": 7,
   "metadata": {},
   "outputs": [
    {
     "data": {
      "text/html": [
       "<div>\n",
       "<style scoped>\n",
       "    .dataframe tbody tr th:only-of-type {\n",
       "        vertical-align: middle;\n",
       "    }\n",
       "\n",
       "    .dataframe tbody tr th {\n",
       "        vertical-align: top;\n",
       "    }\n",
       "\n",
       "    .dataframe thead th {\n",
       "        text-align: right;\n",
       "    }\n",
       "</style>\n",
       "<table border=\"1\" class=\"dataframe\">\n",
       "  <thead>\n",
       "    <tr style=\"text-align: right;\">\n",
       "      <th></th>\n",
       "      <th>Date</th>\n",
       "      <th>Open</th>\n",
       "      <th>High</th>\n",
       "      <th>Low</th>\n",
       "      <th>Close</th>\n",
       "      <th>Adj Close</th>\n",
       "      <th>Volume</th>\n",
       "    </tr>\n",
       "  </thead>\n",
       "  <tbody>\n",
       "    <tr>\n",
       "      <td>19</td>\n",
       "      <td>2019-12-02</td>\n",
       "      <td>202.130005</td>\n",
       "      <td>202.179993</td>\n",
       "      <td>198.050003</td>\n",
       "      <td>199.699997</td>\n",
       "      <td>199.699997</td>\n",
       "      <td>11503400</td>\n",
       "    </tr>\n",
       "  </tbody>\n",
       "</table>\n",
       "</div>"
      ],
      "text/plain": [
       "          Date        Open        High         Low       Close   Adj Close  \\\n",
       "19  2019-12-02  202.130005  202.179993  198.050003  199.699997  199.699997   \n",
       "\n",
       "      Volume  \n",
       "19  11503400  "
      ]
     },
     "execution_count": 7,
     "metadata": {},
     "output_type": "execute_result"
    }
   ],
   "source": [
    "#This prints the last row of data which is what we will test\n",
    "\n",
    "df.tail(1)"
   ]
  },
  {
   "cell_type": "code",
   "execution_count": 8,
   "metadata": {},
   "outputs": [
    {
     "name": "stdout",
     "output_type": "stream",
     "text": [
      "(19, 7)\n"
     ]
    }
   ],
   "source": [
    "#This gets all of the data except for the last row\n",
    "\n",
    "df = df.head(len(df)-1)\n",
    "print(df.shape)"
   ]
  },
  {
   "cell_type": "code",
   "execution_count": 9,
   "metadata": {},
   "outputs": [],
   "source": [
    "#This cell gets all the rows from the dates column and from the open column \n",
    "\n",
    "df_dates = df.loc[:,'Date']\n",
    "df_open = df.loc[:,'Open'] "
   ]
  },
  {
   "cell_type": "code",
   "execution_count": 10,
   "metadata": {},
   "outputs": [
    {
     "name": "stdout",
     "output_type": "stream",
     "text": [
      "[[4], [5], [6], [7], [8], [11], [12], [13], [14], [15], [18], [19], [20], [21], [22], [25], [26], [27], [29]]\n"
     ]
    }
   ],
   "source": [
    "#This cell creates the independent data sets for the X and Y variables\n",
    "\n",
    "for date in df_dates:\n",
    "  dates.append( [int(date.split('-')[2])] )\n",
    "  \n",
    "for open_price in df_open:\n",
    "  prices.append(float(open_price))\n",
    "\n",
    "print(dates)"
   ]
  },
  {
   "cell_type": "code",
   "execution_count": 11,
   "metadata": {},
   "outputs": [],
   "source": [
    "#Function to make three different models using regression\n",
    "\n",
    "def predict_prices(dates, prices, x):\n",
    "  \n",
    "  svr_lin = SVR(kernel='linear', C=1e3)                    #Creates 3 different models\n",
    "  svr_poly = SVR(kernel='poly', C=1e3, degree=2)\n",
    "  svr_rbf = SVR(kernel='rbf', C=1e3, gamma=0.1)\n",
    "  \n",
    "  svr_lin.fit(dates,prices)                           #Trains the models on dates and prices\n",
    "  svr_poly.fit(dates, prices)\n",
    "  svr_rbf.fit(dates, prices)\n",
    "  \n",
    "  plt.scatter(dates, prices, color = 'black', label='Data')                   #Plot the models on the graph to see which one fits best\n",
    "  plt.plot(dates, svr_rbf.predict(dates), color = 'red', label='RBF model')\n",
    "  plt.plot(dates, svr_lin.predict(dates), color = 'green', label='Linear model')\n",
    "  plt.plot(dates, svr_poly.predict(dates), color = 'blue', label='Polynomial model')\n",
    "  plt.xlabel('Date')\n",
    "  plt.ylabel('Price')\n",
    "  plt.title('Support Vector Regression')\n",
    "  plt.legend()\n",
    "  plt.show()\n",
    "  \n",
    "  return svr_rbf.predict(x)[0], svr_lin.predict(x)[0], svr_poly.predict(x)[0]      #Returns all three model predictions"
   ]
  },
  {
   "cell_type": "code",
   "execution_count": 12,
   "metadata": {},
   "outputs": [
    {
     "name": "stderr",
     "output_type": "stream",
     "text": [
      "/Users/fletcherhenson/opt/anaconda3/lib/python3.7/site-packages/sklearn/svm/base.py:193: FutureWarning: The default value of gamma will change from 'auto' to 'scale' in version 0.22 to account better for unscaled features. Set gamma explicitly to 'auto' or 'scale' to avoid this warning.\n",
      "  \"avoid this warning.\", FutureWarning)\n"
     ]
    },
    {
     "data": {
      "image/png": "[encoded data removed]",
      "text/plain": [
       "<Figure size 432x288 with 1 Axes>"
      ]
     },
     "metadata": {
      "needs_background": "light"
     },
     "output_type": "display_data"
    },
    {
     "name": "stdout",
     "output_type": "stream",
     "text": [
      "(203.97053609954733, 201.5610517895767, 202.35923586456812)\n"
     ]
    }
   ],
   "source": [
    "predicted_price = predict_prices(dates, prices, [[30]])         #Predicts the price of stock on day 30\n",
    "print(predicted_price)"
   ]
  },
  {
   "cell_type": "markdown",
   "metadata": {},
   "source": [
    "Analysis: Linear Regression was the best model to use for a project like this because the method analyizes and compares the relationship between two variables, in this case, the price of the stock and the predicted price of the stock. In predictive analytics it can be used to predict a future numerical value of a variable which is what we were trying to do for this specific project. "
   ]
  }
 ],
 "metadata": {
  "kernelspec": {
   "display_name": "Python 3",
   "language": "python",
   "name": "python3"
  },
  "language_info": {
   "codemirror_mode": {
    "name": "ipython",
    "version": 3
   },
   "file_extension": ".py",
   "mimetype": "text/x-python",
   "name": "python",
   "nbconvert_exporter": "python",
   "pygments_lexer": "ipython3",
   "version": "3.7.3"
  }
 },
 "nbformat": 4,
 "nbformat_minor": 2
}
